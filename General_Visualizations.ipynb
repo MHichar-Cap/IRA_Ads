{
 "cells": [
  {
   "cell_type": "code",
   "execution_count": 82,
   "metadata": {},
   "outputs": [
    {
     "ename": "ModuleNotFoundError",
     "evalue": "No module named 'scripts.functions'",
     "output_type": "error",
     "traceback": [
      "\u001b[0;31m---------------------------------------------------------------------------\u001b[0m",
      "\u001b[0;31mModuleNotFoundError\u001b[0m                       Traceback (most recent call last)",
      "\u001b[0;32m<ipython-input-82-999660ffe944>\u001b[0m in \u001b[0;36m<module>\u001b[0;34m()\u001b[0m\n\u001b[1;32m      2\u001b[0m \u001b[0;32mimport\u001b[0m \u001b[0mpandas\u001b[0m \u001b[0;32mas\u001b[0m \u001b[0mpd\u001b[0m\u001b[0;34m\u001b[0m\u001b[0m\n\u001b[1;32m      3\u001b[0m \u001b[0;32mimport\u001b[0m \u001b[0mmatplotlib\u001b[0m\u001b[0;34m.\u001b[0m\u001b[0mpyplot\u001b[0m \u001b[0;32mas\u001b[0m \u001b[0mplt\u001b[0m\u001b[0;34m\u001b[0m\u001b[0m\n\u001b[0;32m----> 4\u001b[0;31m \u001b[0;32mfrom\u001b[0m \u001b[0mscripts\u001b[0m\u001b[0;34m.\u001b[0m\u001b[0mfunctions\u001b[0m \u001b[0;32mimport\u001b[0m \u001b[0;34m*\u001b[0m\u001b[0;34m\u001b[0m\u001b[0m\n\u001b[0m\u001b[1;32m      5\u001b[0m \u001b[0mget_ipython\u001b[0m\u001b[0;34m(\u001b[0m\u001b[0;34m)\u001b[0m\u001b[0;34m.\u001b[0m\u001b[0mrun_line_magic\u001b[0m\u001b[0;34m(\u001b[0m\u001b[0;34m'matplotlib'\u001b[0m\u001b[0;34m,\u001b[0m \u001b[0;34m'inline'\u001b[0m\u001b[0;34m)\u001b[0m\u001b[0;34m\u001b[0m\u001b[0m\n\u001b[1;32m      6\u001b[0m \u001b[0mget_ipython\u001b[0m\u001b[0;34m(\u001b[0m\u001b[0;34m)\u001b[0m\u001b[0;34m.\u001b[0m\u001b[0mrun_line_magic\u001b[0m\u001b[0;34m(\u001b[0m\u001b[0;34m'load_ext'\u001b[0m\u001b[0;34m,\u001b[0m \u001b[0;34m'autoreload'\u001b[0m\u001b[0;34m)\u001b[0m\u001b[0;34m\u001b[0m\u001b[0m\n",
      "\u001b[0;31mModuleNotFoundError\u001b[0m: No module named 'scripts.functions'"
     ]
    }
   ],
   "source": [
    "import numpy as np\n",
    "import pandas as pd\n",
    "import matplotlib.pyplot as plt\n",
    "from scripts.\n",
    "%matplotlib inline\n",
    "%load_ext autoreload\n",
    "%autoreload 2"
   ]
  },
  {
   "cell_type": "code",
   "execution_count": 7,
   "metadata": {},
   "outputs": [],
   "source": [
    "ads = get_ads_frame()"
   ]
  },
  {
   "cell_type": "code",
   "execution_count": 8,
   "metadata": {},
   "outputs": [
    {
     "data": {
      "text/plain": [
       "Index(['ad_clicks', 'ad_copy', 'ad_creation_date', 'ad_end_date', 'ad_id',\n",
       "       'ad_impressions', 'ad_spend_usd', 'ad_targeting_location', 'age',\n",
       "       'age_lower', 'age_upper', 'conversion_rate', 'date_order_index',\n",
       "       'efficiency_clicks', 'efficiency_impressions', 'interest_expansion',\n",
       "       'interests_categories', 'interests_categories_regex', 'language',\n",
       "       'language_categories', 'location_categories',\n",
       "       'location_categories_regex', 'placement_categories', 'placements',\n",
       "       'Conservative', 'African American', 'Anti-Immigrant', 'Native American',\n",
       "       'Gun Rights', 'Progressive', 'Below Age 30', 'Texas', 'Self-Defense',\n",
       "       'Prison', 'Police', 'Products', 'Army', 'Geographic', 'Christianity',\n",
       "       'Unknown', 'American South', 'LGBTQ', 'Islam', 'Memes and Products',\n",
       "       'Patriotism', 'Memes', 'Latinx', 'Above Age 30'],\n",
       "      dtype='object')"
      ]
     },
     "execution_count": 8,
     "metadata": {},
     "output_type": "execute_result"
    }
   ],
   "source": [
    "ads.columns"
   ]
  },
  {
   "cell_type": "code",
   "execution_count": 13,
   "metadata": {
    "collapsed": true
   },
   "outputs": [
    {
     "data": {
      "text/html": [
       "<div>\n",
       "<style scoped>\n",
       "    .dataframe tbody tr th:only-of-type {\n",
       "        vertical-align: middle;\n",
       "    }\n",
       "\n",
       "    .dataframe tbody tr th {\n",
       "        vertical-align: top;\n",
       "    }\n",
       "\n",
       "    .dataframe thead th {\n",
       "        text-align: right;\n",
       "    }\n",
       "</style>\n",
       "<table border=\"1\" class=\"dataframe\">\n",
       "  <thead>\n",
       "    <tr style=\"text-align: right;\">\n",
       "      <th></th>\n",
       "      <th>ad_clicks</th>\n",
       "      <th>ad_copy</th>\n",
       "      <th>ad_creation_date</th>\n",
       "      <th>ad_end_date</th>\n",
       "      <th>ad_id</th>\n",
       "      <th>ad_impressions</th>\n",
       "      <th>ad_spend_usd</th>\n",
       "      <th>ad_targeting_location</th>\n",
       "      <th>age</th>\n",
       "      <th>age_lower</th>\n",
       "      <th>...</th>\n",
       "      <th>Christianity</th>\n",
       "      <th>Unknown</th>\n",
       "      <th>American South</th>\n",
       "      <th>LGBTQ</th>\n",
       "      <th>Islam</th>\n",
       "      <th>Memes and Products</th>\n",
       "      <th>Patriotism</th>\n",
       "      <th>Memes</th>\n",
       "      <th>Latinx</th>\n",
       "      <th>Above Age 30</th>\n",
       "    </tr>\n",
       "    <tr>\n",
       "      <th>African American</th>\n",
       "      <th></th>\n",
       "      <th></th>\n",
       "      <th></th>\n",
       "      <th></th>\n",
       "      <th></th>\n",
       "      <th></th>\n",
       "      <th></th>\n",
       "      <th></th>\n",
       "      <th></th>\n",
       "      <th></th>\n",
       "      <th></th>\n",
       "      <th></th>\n",
       "      <th></th>\n",
       "      <th></th>\n",
       "      <th></th>\n",
       "      <th></th>\n",
       "      <th></th>\n",
       "      <th></th>\n",
       "      <th></th>\n",
       "      <th></th>\n",
       "      <th></th>\n",
       "    </tr>\n",
       "  </thead>\n",
       "  <tbody>\n",
       "    <tr>\n",
       "      <th>0</th>\n",
       "      <td>1926</td>\n",
       "      <td>1902</td>\n",
       "      <td>1925</td>\n",
       "      <td>1050</td>\n",
       "      <td>1818</td>\n",
       "      <td>1924</td>\n",
       "      <td>1403</td>\n",
       "      <td>1897</td>\n",
       "      <td>1926</td>\n",
       "      <td>1926</td>\n",
       "      <td>...</td>\n",
       "      <td>1926</td>\n",
       "      <td>1926</td>\n",
       "      <td>1926</td>\n",
       "      <td>1926</td>\n",
       "      <td>1926</td>\n",
       "      <td>1926</td>\n",
       "      <td>1926</td>\n",
       "      <td>1926</td>\n",
       "      <td>1926</td>\n",
       "      <td>1926</td>\n",
       "    </tr>\n",
       "    <tr>\n",
       "      <th>1</th>\n",
       "      <td>1591</td>\n",
       "      <td>1575</td>\n",
       "      <td>1590</td>\n",
       "      <td>1323</td>\n",
       "      <td>1548</td>\n",
       "      <td>1590</td>\n",
       "      <td>1327</td>\n",
       "      <td>1589</td>\n",
       "      <td>1590</td>\n",
       "      <td>1590</td>\n",
       "      <td>...</td>\n",
       "      <td>1591</td>\n",
       "      <td>1591</td>\n",
       "      <td>1591</td>\n",
       "      <td>1591</td>\n",
       "      <td>1591</td>\n",
       "      <td>1591</td>\n",
       "      <td>1591</td>\n",
       "      <td>1591</td>\n",
       "      <td>1591</td>\n",
       "      <td>1591</td>\n",
       "    </tr>\n",
       "  </tbody>\n",
       "</table>\n",
       "<p>2 rows × 47 columns</p>\n",
       "</div>"
      ],
      "text/plain": [
       "                  ad_clicks  ad_copy  ad_creation_date  ad_end_date  ad_id  \\\n",
       "African American                                                             \n",
       "0                      1926     1902              1925         1050   1818   \n",
       "1                      1591     1575              1590         1323   1548   \n",
       "\n",
       "                  ad_impressions  ad_spend_usd  ad_targeting_location   age  \\\n",
       "African American                                                              \n",
       "0                           1924          1403                   1897  1926   \n",
       "1                           1590          1327                   1589  1590   \n",
       "\n",
       "                  age_lower      ...       Christianity  Unknown  \\\n",
       "African American                 ...                               \n",
       "0                      1926      ...               1926     1926   \n",
       "1                      1590      ...               1591     1591   \n",
       "\n",
       "                  American South  LGBTQ  Islam  Memes and Products  \\\n",
       "African American                                                     \n",
       "0                           1926   1926   1926                1926   \n",
       "1                           1591   1591   1591                1591   \n",
       "\n",
       "                  Patriotism  Memes  Latinx  Above Age 30  \n",
       "African American                                           \n",
       "0                       1926   1926    1926          1926  \n",
       "1                       1591   1591    1591          1591  \n",
       "\n",
       "[2 rows x 47 columns]"
      ]
     },
     "execution_count": 13,
     "metadata": {},
     "output_type": "execute_result"
    }
   ],
   "source": [
    "ads.groupby(by='African American').count()"
   ]
  },
  {
   "cell_type": "markdown",
   "metadata": {},
   "source": [
    "## Set values for the counts of the ads in interest groups"
   ]
  },
  {
   "cell_type": "code",
   "execution_count": 40,
   "metadata": {},
   "outputs": [],
   "source": [
    "af_am_count = ads[ads['African American']==1].count()[0]"
   ]
  },
  {
   "cell_type": "code",
   "execution_count": 41,
   "metadata": {},
   "outputs": [],
   "source": [
    "latinx_count = ads[ads['Latinx']==1].count()[0]"
   ]
  },
  {
   "cell_type": "code",
   "execution_count": 42,
   "metadata": {},
   "outputs": [],
   "source": [
    "progressive_count = ads[ads['Progressive']==1].count()[0]"
   ]
  },
  {
   "cell_type": "code",
   "execution_count": 43,
   "metadata": {},
   "outputs": [],
   "source": [
    "patriotism_count = ads[ads['Patriotism']==1].count()[0]"
   ]
  },
  {
   "cell_type": "code",
   "execution_count": 44,
   "metadata": {},
   "outputs": [],
   "source": [
    "lgbtq_count = ads[ads['LGBTQ']==1].count()[0]"
   ]
  },
  {
   "cell_type": "code",
   "execution_count": 45,
   "metadata": {},
   "outputs": [],
   "source": [
    "gun_count = ads[ads['Gun Rights']==1].count()[0]"
   ]
  },
  {
   "cell_type": "code",
   "execution_count": 46,
   "metadata": {},
   "outputs": [],
   "source": [
    "memes_count = ads[ads['Memes']==1].count()[0]"
   ]
  },
  {
   "cell_type": "code",
   "execution_count": 47,
   "metadata": {},
   "outputs": [],
   "source": [
    "values=[af_am_count,progressive_count,latinx_count,memes_count,patriotism_count,lgbtq_count,gun_count]"
   ]
  },
  {
   "cell_type": "code",
   "execution_count": 53,
   "metadata": {},
   "outputs": [
    {
     "data": {
      "image/png": "[encoded data removed]",
      "text/plain": [
       "<matplotlib.figure.Figure at 0x118d0b0b8>"
      ]
     },
     "metadata": {},
     "output_type": "display_data"
    }
   ],
   "source": [
    "plt.figure(figsize=(16,9))\n",
    "plt.bar(np.arange(len(values)),values, align='center')\n",
    "plt.xticks(np.arange(len(values)),['African American','Progressive','Latinx','Memes',\\\n",
    "                                   'Patriotism','LGBTQ','Gun Rights'])\n",
    "plt.xlabel('Interest Group')\n",
    "plt.title('Number of Ads in Interest Groups');"
   ]
  },
  {
   "cell_type": "markdown",
   "metadata": {},
   "source": [
    "# Interest Clicks"
   ]
  },
  {
   "cell_type": "code",
   "execution_count": 70,
   "metadata": {
    "scrolled": true
   },
   "outputs": [
    {
     "data": {
      "text/plain": [
       "interests_categories_regex\n",
       "Latinx                                                           726984\n",
       "African American                                                 603286\n",
       "Unknown_African American                                         589088\n",
       "African American_Progressive                                     588776\n",
       "Progressive                                                      156765\n",
       "Unknown_Patriotism                                               134769\n",
       "                                                                 121912\n",
       "Memes_Memes and Products                                          85559\n",
       "American South                                                    82162\n",
       "Christianity                                                      76472\n",
       "LGBTQ                                                             74083\n",
       "Police                                                            73145\n",
       "Gun Rights                                                        57605\n",
       "Unknown_African American_Progressive                              56145\n",
       "Conservative                                                      37813\n",
       "Patriotism                                                        25237\n",
       "Unknown_Anti-Immigrant                                            23989\n",
       "Islam                                                             22075\n",
       "Unknown_Gun Rights_Self-Defense                                   21197\n",
       "Unknown_African American_Products_Progressive                     19771\n",
       "Unknown                                                           17153\n",
       "Conservative_Above Age 30_Army                                    15167\n",
       "Geographic_Progressive                                            14890\n",
       "Unknown_Progressive                                               12089\n",
       "Native American                                                    9547\n",
       "Unknown_Police                                                     9508\n",
       "Anti-Immigrant                                                     8468\n",
       "Army                                                               6251\n",
       "American South_Conservative                                        5870\n",
       "Unknown_Memes_Geographic_African American_Memes and Products       4434\n",
       "                                                                  ...  \n",
       "Unknown_African American_Products                                    43\n",
       "Above Age 30_Police                                                  42\n",
       "Products_Below Age 30                                                40\n",
       "Products                                                             38\n",
       "Police_Progressive                                                   33\n",
       "American South_Gun Rights_Army                                       30\n",
       "Unknown_Christianity                                                 28\n",
       "Conservative_Anti-Immigrant                                          23\n",
       "Memes_Memes and Products_Conservative                                20\n",
       "Unknown_Progressive_Islam                                            18\n",
       "African American_Latinx                                              18\n",
       "Christianity_Conservative                                            14\n",
       "Patriotism_Army_Conservative_Police_American South_Gun Rights        10\n",
       "Unknown_African American_Police                                       9\n",
       "Unknown_Geographic_Gun Rights_Texas                                   7\n",
       "Unknown_American South_Geographic_Texas                               5\n",
       "African American_Police                                               4\n",
       "American South_Gun Rights                                             3\n",
       "Christianity_Below Age 30                                             1\n",
       "Unknown_African American_Latinx                                       1\n",
       "Unknown_Prison                                                        0\n",
       "Unknown_African American_Memes_Memes and Products_Progressive         0\n",
       "Unknown_Products                                                      0\n",
       "African American_Progressive_Conservative                             0\n",
       "Unknown_Police_Prison                                                 0\n",
       "Unknown_African American_Police_Prison                                0\n",
       "Unknown_Islam_Christianity                                            0\n",
       "Gun Rights_Anti-Immigrant                                             0\n",
       "Gun Rights_Texas                                                      0\n",
       "Unknown_Police_Army                                                   0\n",
       "Name: ad_clicks, Length: 117, dtype: int64"
      ]
     },
     "execution_count": 70,
     "metadata": {},
     "output_type": "execute_result"
    }
   ],
   "source": [
    "interest_clicks=ads.groupby(by='interests_categories_regex').sum().sort_values\\\n",
    "(by='ad_clicks', ascending=False)['ad_clicks']\n",
    "interest_clicks"
   ]
  },
  {
   "cell_type": "code",
   "execution_count": 66,
   "metadata": {
    "scrolled": true
   },
   "outputs": [],
   "source": [
    "af_am_clicks = ads[ads['African American']==1].sum()[0]\n",
    "latinx_clicks = ads[ads['Latinx']==1].sum()[0]\n",
    "progressive_clicks = ads[ads['Progressive']==1].sum()[0]\n",
    "pat_clicks = ads[ads['Patriotism']==1].sum()[0]\n",
    "memes_clicks = ads[ads['Memes']==1].sum()[0]\n",
    "american_south_clicks = ads[ads['American South']==1].sum()[0]\n",
    "chris_clicks = ads[ads['Christianity']==1].sum()[0]"
   ]
  },
  {
   "cell_type": "code",
   "execution_count": 67,
   "metadata": {},
   "outputs": [],
   "source": [
    "clicks_values=[af_am_clicks,latinx_clicks,progressive_clicks,pat_clicks,\\\n",
    "               memes_clicks,american_south_clicks,chris_clicks]"
   ]
  },
  {
   "cell_type": "code",
   "execution_count": 68,
   "metadata": {},
   "outputs": [
    {
     "data": {
      "image/png": "[encoded data removed]",
      "text/plain": [
       "<matplotlib.figure.Figure at 0x1194c2c18>"
      ]
     },
     "metadata": {},
     "output_type": "display_data"
    }
   ],
   "source": [
    "plt.figure(figsize=(16,9))\n",
    "plt.bar(np.arange(len(clicks_values)),clicks_values, align='center')\n",
    "plt.xticks(np.arange(len(values)),['African American','LatinX','Progressive','Patriotism','Memes',\\\n",
    "                                  'American South','Christianity'])\n",
    "plt.xlabel('Interest Group')\n",
    "plt.title('Number of Clicks in Interest Group Ads');"
   ]
  },
  {
   "cell_type": "markdown",
   "metadata": {},
   "source": [
    "# Interest Spending "
   ]
  },
  {
   "cell_type": "code",
   "execution_count": 72,
   "metadata": {
    "scrolled": true
   },
   "outputs": [
    {
     "data": {
      "text/plain": [
       "interests_categories_regex\n",
       "African American                                                 12996.63\n",
       "Unknown_Patriotism                                               11036.09\n",
       "                                                                  9144.99\n",
       "Unknown_African American                                          7766.01\n",
       "Progressive                                                       6748.57\n",
       "LGBTQ                                                             4311.78\n",
       "African American_Progressive                                      3825.57\n",
       "Islam                                                             3345.95\n",
       "Christianity                                                      3326.58\n",
       "American South                                                    3106.78\n",
       "Gun Rights                                                        2970.41\n",
       "Conservative                                                      2483.61\n",
       "Latinx                                                            2268.11\n",
       "Police                                                            1789.60\n",
       "Unknown                                                           1730.67\n",
       "Conservative_Above Age 30_Army                                    1296.41\n",
       "Unknown_Anti-Immigrant                                            1039.63\n",
       "Memes_Memes and Products                                          1033.16\n",
       "Unknown_Progressive                                                773.75\n",
       "Unknown_African American_Progressive                               773.24\n",
       "Unknown_Self-Defense                                               722.36\n",
       "Geographic_Texas                                                   599.98\n",
       "Unknown_Gun Rights_Self-Defense                                    577.86\n",
       "Patriotism                                                         564.73\n",
       "American South_Conservative                                        545.84\n",
       "Unknown_Police                                                     524.10\n",
       "African American_Islam                                             497.31\n",
       "Army                                                               453.28\n",
       "African American_Latinx                                            372.35\n",
       "Unknown_Geographic_LGBTQ                                           331.71\n",
       "                                                                   ...   \n",
       "African American_Geographic                                         25.81\n",
       "Unknown_Islam_Christianity                                          25.70\n",
       "Above Age 30_Conservative                                           24.91\n",
       "Police_Progressive                                                  22.78\n",
       "American South_Gun Rights_Army                                      19.35\n",
       "Unknown_Police_Army                                                 19.24\n",
       "Unknown_African American_Geographic_Memes_Memes and Products        18.25\n",
       "American South_Gun Rights                                           15.12\n",
       "Unknown_Memes_Geographic_African American_Memes and Products        14.73\n",
       "Unknown_American South_Geographic_Texas                             14.72\n",
       "Unknown_Geographic_Gun Rights_Texas                                 10.71\n",
       "Unknown_African American_Memes_Memes and Products_Progressive       10.55\n",
       "Prison                                                               9.93\n",
       "Above Age 30_Police                                                  8.52\n",
       "Memes_Memes and Products_Conservative                                8.47\n",
       "LGBTQ_Progressive_Conservative                                       7.82\n",
       "Unknown_Progressive_Islam                                            5.71\n",
       "African American_Police                                              5.22\n",
       "Conservative_Anti-Immigrant                                          3.86\n",
       "Unknown_Christianity                                                 1.60\n",
       "Christianity_Conservative                                            1.02\n",
       "Unknown_African American_Latinx                                      0.40\n",
       "Christianity_Below Age 30                                            0.29\n",
       "African American_Progressive_Conservative                            0.00\n",
       "Gun Rights_Texas                                                     0.00\n",
       "Gun Rights_Anti-Immigrant                                            0.00\n",
       "Unknown_Police_Prison                                                0.00\n",
       "Unknown_Prison                                                       0.00\n",
       "Unknown_Products                                                     0.00\n",
       "Unknown_African American_Police_Prison                               0.00\n",
       "Name: ad_spend_usd, Length: 117, dtype: float64"
      ]
     },
     "execution_count": 72,
     "metadata": {},
     "output_type": "execute_result"
    }
   ],
   "source": [
    "interest_spend=ads.groupby(by='interests_categories_regex').sum().sort_values\\\n",
    "(by='ad_spend_usd', ascending=False)['ad_spend_usd']\n",
    "interest_spend"
   ]
  },
  {
   "cell_type": "code",
   "execution_count": 76,
   "metadata": {},
   "outputs": [],
   "source": [
    "af_am_spend = ads[ads['African American']==1].sum()['ad_spend_usd']\n",
    "pat_spend = ads[ads['Patriotism']==1].sum()['ad_spend_usd']\n",
    "progressvie_spend = ads[ads['Progressive']==1].sum()['ad_spend_usd']\n",
    "lgbtq_spend = ads[ads['LGBTQ']==1].sum()['ad_spend_usd']\n",
    "isla_spend = ads[ads['Islam']==1].sum()['ad_spend_usd']\n",
    "chris_spend = ads[ads['Christianity']==1].sum()['ad_spend_usd']\n",
    "am_south = ads[ads['American South']==1].sum()['ad_spend_usd']\n",
    "gun_spend = ads[ads['Gun Rights']==1].sum()['ad_spend_usd']\n",
    "latinx_spend = ads[ads['Latinx']==1].sum()['ad_spend_usd']\n",
    "meme_spend = ads[ads['Memes']==1].sum()['ad_spend_usd']"
   ]
  },
  {
   "cell_type": "code",
   "execution_count": 77,
   "metadata": {},
   "outputs": [],
   "source": [
    "interest_spend = [af_am_spend,pat_spend,progressvie_spend,lgbtq_spend,isla_spend,\\\n",
    "                  chris_spend,am_south,gun_spend,latinx_spend,meme_spend]"
   ]
  },
  {
   "cell_type": "code",
   "execution_count": 81,
   "metadata": {},
   "outputs": [
    {
     "data": {
      "image/png": "[encoded data removed]",
      "text/plain": [
       "<matplotlib.figure.Figure at 0x11b1847b8>"
      ]
     },
     "metadata": {},
     "output_type": "display_data"
    }
   ],
   "source": [
    "plt.figure(figsize=(16,9))\n",
    "plt.bar(np.arange(len(interest_spend)),interest_spend, align='center')\n",
    "plt.xticks(np.arange(len(interest_spend)),['African American','Patriotism','Progressive','LGBTQ',\\\n",
    "                                           'Islam','Christianity','American South','Gun Rights','LatinX','Memes'])\n",
    "plt.xlabel('Interest Group')\n",
    "plt.ylabel('Amount Spent Total(USD)')\n",
    "plt.title('Amount Spent on Interest Group Ads');"
   ]
  },
  {
   "cell_type": "code",
   "execution_count": null,
   "metadata": {},
   "outputs": [],
   "source": []
  }
 ],
 "metadata": {
  "kernelspec": {
   "display_name": "Python 3",
   "language": "python",
   "name": "python3"
  },
  "language_info": {
   "codemirror_mode": {
    "name": "ipython",
    "version": 3
   },
   "file_extension": ".py",
   "mimetype": "text/x-python",
   "name": "python",
   "nbconvert_exporter": "python",
   "pygments_lexer": "ipython3",
   "version": "3.6.4"
  }
 },
 "nbformat": 4,
 "nbformat_minor": 2
}
