{
 "cells": [
  {
   "cell_type": "code",
   "execution_count": 5,
   "metadata": {},
   "outputs": [],
   "source": [
    "import numpy as np\n",
    "import pandas as pd\n",
    "import matplotlib.pyplot as plt\n",
    "from scripture.functions import *\n",
    "%matplotlib inline\n",
    "%load_ext autoreload\n",
    "%autoreload 2"
   ]
  },
  {
   "cell_type": "code",
   "execution_count": 2,
   "metadata": {},
   "outputs": [],
   "source": [
    "ads = get_ads_frame()"
   ]
  },
  {
   "cell_type": "code",
   "execution_count": 3,
   "metadata": {},
   "outputs": [],
   "source": [
    "ads.to_csv('data/ads_dummies.csv')"
   ]
  },
  {
   "cell_type": "code",
   "execution_count": 4,
   "metadata": {},
   "outputs": [
    {
     "data": {
      "text/plain": [
       "Index(['ad_clicks', 'ad_copy', 'ad_creation_date', 'ad_end_date', 'ad_id',\n",
       "       'ad_impressions', 'ad_spend_usd', 'ad_targeting_location', 'age',\n",
       "       'age_lower', 'age_upper', 'conversion_rate', 'date_order_index',\n",
       "       'efficiency_clicks', 'efficiency_impressions', 'interest_expansion',\n",
       "       'interests_categories', 'interests_categories_regex', 'language',\n",
       "       'language_categories', 'location_categories',\n",
       "       'location_categories_regex', 'placement_categories', 'placements',\n",
       "       'Conservative', 'African American', 'Anti-Immigrant', 'Native American',\n",
       "       'Gun Rights', 'Progressive', 'Below Age 30', 'Texas', 'Self-Defense',\n",
       "       'Prison', 'Police', 'Products', 'Army', 'Geographic', 'Christianity',\n",
       "       'Unknown', 'American South', 'LGBTQ', 'Islam', 'Memes and Products',\n",
       "       'Patriotism', 'Memes', 'Latinx', 'Above Age 30'],\n",
       "      dtype='object')"
      ]
     },
     "execution_count": 4,
     "metadata": {},
     "output_type": "execute_result"
    }
   ],
   "source": [
    "ads.columns"
   ]
  },
  {
   "cell_type": "code",
   "execution_count": 5,
   "metadata": {},
   "outputs": [
    {
     "data": {
      "text/html": [
       "<div>\n",
       "<style scoped>\n",
       "    .dataframe tbody tr th:only-of-type {\n",
       "        vertical-align: middle;\n",
       "    }\n",
       "\n",
       "    .dataframe tbody tr th {\n",
       "        vertical-align: top;\n",
       "    }\n",
       "\n",
       "    .dataframe thead th {\n",
       "        text-align: right;\n",
       "    }\n",
       "</style>\n",
       "<table border=\"1\" class=\"dataframe\">\n",
       "  <thead>\n",
       "    <tr style=\"text-align: right;\">\n",
       "      <th></th>\n",
       "      <th>ad_clicks</th>\n",
       "      <th>ad_copy</th>\n",
       "      <th>ad_creation_date</th>\n",
       "      <th>ad_end_date</th>\n",
       "      <th>ad_id</th>\n",
       "      <th>ad_impressions</th>\n",
       "      <th>ad_spend_usd</th>\n",
       "      <th>ad_targeting_location</th>\n",
       "      <th>age</th>\n",
       "      <th>age_lower</th>\n",
       "      <th>...</th>\n",
       "      <th>Christianity</th>\n",
       "      <th>Unknown</th>\n",
       "      <th>American South</th>\n",
       "      <th>LGBTQ</th>\n",
       "      <th>Islam</th>\n",
       "      <th>Memes and Products</th>\n",
       "      <th>Patriotism</th>\n",
       "      <th>Memes</th>\n",
       "      <th>Latinx</th>\n",
       "      <th>Above Age 30</th>\n",
       "    </tr>\n",
       "    <tr>\n",
       "      <th>African American</th>\n",
       "      <th></th>\n",
       "      <th></th>\n",
       "      <th></th>\n",
       "      <th></th>\n",
       "      <th></th>\n",
       "      <th></th>\n",
       "      <th></th>\n",
       "      <th></th>\n",
       "      <th></th>\n",
       "      <th></th>\n",
       "      <th></th>\n",
       "      <th></th>\n",
       "      <th></th>\n",
       "      <th></th>\n",
       "      <th></th>\n",
       "      <th></th>\n",
       "      <th></th>\n",
       "      <th></th>\n",
       "      <th></th>\n",
       "      <th></th>\n",
       "      <th></th>\n",
       "    </tr>\n",
       "  </thead>\n",
       "  <tbody>\n",
       "    <tr>\n",
       "      <th>0</th>\n",
       "      <td>1926</td>\n",
       "      <td>1902</td>\n",
       "      <td>1925</td>\n",
       "      <td>1050</td>\n",
       "      <td>1818</td>\n",
       "      <td>1924</td>\n",
       "      <td>1403</td>\n",
       "      <td>1897</td>\n",
       "      <td>1926</td>\n",
       "      <td>1926</td>\n",
       "      <td>...</td>\n",
       "      <td>1926</td>\n",
       "      <td>1926</td>\n",
       "      <td>1926</td>\n",
       "      <td>1926</td>\n",
       "      <td>1926</td>\n",
       "      <td>1926</td>\n",
       "      <td>1926</td>\n",
       "      <td>1926</td>\n",
       "      <td>1926</td>\n",
       "      <td>1926</td>\n",
       "    </tr>\n",
       "    <tr>\n",
       "      <th>1</th>\n",
       "      <td>1591</td>\n",
       "      <td>1575</td>\n",
       "      <td>1590</td>\n",
       "      <td>1323</td>\n",
       "      <td>1548</td>\n",
       "      <td>1590</td>\n",
       "      <td>1327</td>\n",
       "      <td>1589</td>\n",
       "      <td>1590</td>\n",
       "      <td>1590</td>\n",
       "      <td>...</td>\n",
       "      <td>1591</td>\n",
       "      <td>1591</td>\n",
       "      <td>1591</td>\n",
       "      <td>1591</td>\n",
       "      <td>1591</td>\n",
       "      <td>1591</td>\n",
       "      <td>1591</td>\n",
       "      <td>1591</td>\n",
       "      <td>1591</td>\n",
       "      <td>1591</td>\n",
       "    </tr>\n",
       "  </tbody>\n",
       "</table>\n",
       "<p>2 rows × 47 columns</p>\n",
       "</div>"
      ],
      "text/plain": [
       "                  ad_clicks  ad_copy  ad_creation_date  ad_end_date  ad_id  \\\n",
       "African American                                                             \n",
       "0                      1926     1902              1925         1050   1818   \n",
       "1                      1591     1575              1590         1323   1548   \n",
       "\n",
       "                  ad_impressions  ad_spend_usd  ad_targeting_location   age  \\\n",
       "African American                                                              \n",
       "0                           1924          1403                   1897  1926   \n",
       "1                           1590          1327                   1589  1590   \n",
       "\n",
       "                  age_lower      ...       Christianity  Unknown  \\\n",
       "African American                 ...                               \n",
       "0                      1926      ...               1926     1926   \n",
       "1                      1590      ...               1591     1591   \n",
       "\n",
       "                  American South  LGBTQ  Islam  Memes and Products  \\\n",
       "African American                                                     \n",
       "0                           1926   1926   1926                1926   \n",
       "1                           1591   1591   1591                1591   \n",
       "\n",
       "                  Patriotism  Memes  Latinx  Above Age 30  \n",
       "African American                                           \n",
       "0                       1926   1926    1926          1926  \n",
       "1                       1591   1591    1591          1591  \n",
       "\n",
       "[2 rows x 47 columns]"
      ]
     },
     "execution_count": 5,
     "metadata": {},
     "output_type": "execute_result"
    }
   ],
   "source": [
    "ads.groupby(by='African American').count()"
   ]
  },
  {
   "cell_type": "markdown",
   "metadata": {},
   "source": [
    "## Set values for the counts of the ads in interest groups"
   ]
  },
  {
   "cell_type": "code",
   "execution_count": 6,
   "metadata": {},
   "outputs": [],
   "source": [
    "af_am_count = ads[ads['African American']==1].count()[0]"
   ]
  },
  {
   "cell_type": "code",
   "execution_count": 7,
   "metadata": {},
   "outputs": [],
   "source": [
    "latinx_count = ads[ads['Latinx']==1].count()[0]"
   ]
  },
  {
   "cell_type": "code",
   "execution_count": 16,
   "metadata": {},
   "outputs": [],
   "source": [
    "progressive_count = ads[ads['Progressive']==1].count()[0]"
   ]
  },
  {
   "cell_type": "code",
   "execution_count": 17,
   "metadata": {},
   "outputs": [],
   "source": [
    "patriotism_count = ads[ads['Patriotism']==1].count()[0]"
   ]
  },
  {
   "cell_type": "code",
   "execution_count": 18,
   "metadata": {},
   "outputs": [],
   "source": [
    "lgbtq_count = ads[ads['LGBTQ']==1].count()[0]"
   ]
  },
  {
   "cell_type": "code",
   "execution_count": 19,
   "metadata": {},
   "outputs": [],
   "source": [
    "gun_count = ads[ads['Gun Rights']==1].count()[0]"
   ]
  },
  {
   "cell_type": "code",
   "execution_count": 20,
   "metadata": {},
   "outputs": [],
   "source": [
    "memes_count = ads[ads['Memes']==1].count()[0]"
   ]
  },
  {
   "cell_type": "code",
   "execution_count": 21,
   "metadata": {},
   "outputs": [],
   "source": [
    "values=[af_am_count,progressive_count,latinx_count,memes_count,patriotism_count,lgbtq_count,gun_count]"
   ]
  },
  {
   "cell_type": "code",
   "execution_count": 22,
   "metadata": {},
   "outputs": [
    {
     "data": {
      "text/plain": [
       "[1591, 631, 207, 190, 186, 120, 115]"
      ]
     },
     "execution_count": 22,
     "metadata": {},
     "output_type": "execute_result"
    }
   ],
   "source": [
    "values"
   ]
  },
  {
   "cell_type": "code",
   "execution_count": 23,
   "metadata": {},
   "outputs": [],
   "source": [
    "interest_cats = ['African American','Progressive','Latinx','Memes',\\\n",
    "                                   'Patriotism','LGBTQ','Gun Rights']"
   ]
  },
  {
   "cell_type": "code",
   "execution_count": 24,
   "metadata": {},
   "outputs": [
    {
     "data": {
      "text/plain": [
       "Text(0.5,1,'Number of Ads in Interest Groups')"
      ]
     },
     "execution_count": 24,
     "metadata": {},
     "output_type": "execute_result"
    },
    {
     "data": {
      "image/png": "[encoded data removed]",
      "text/plain": [
       "<matplotlib.figure.Figure at 0x116b19da0>"
      ]
     },
     "metadata": {},
     "output_type": "display_data"
    }
   ],
   "source": [
    "plt.figure(figsize=(16,9))\n",
    "plt.bar(np.arange(len(values)),values, align='center')\n",
    "plt.xticks(np.arange(len(values)),interest_cats)\n",
    "plt.xlabel('Interest Group')\n",
    "plt.title('Number of Ads in Interest Groups')\n",
    "# plt.savefig('img/num_ads.png')"
   ]
  },
  {
   "cell_type": "markdown",
   "metadata": {},
   "source": [
    "## Plotly"
   ]
  },
  {
   "cell_type": "code",
   "execution_count": 2,
   "metadata": {},
   "outputs": [],
   "source": [
    "import plotly.plotly as py\n",
    "import plotly.tools as tls\n",
    "tls.set_credentials_file(username='mhichar', api_key=\"Iv0ES1y9TA2rBmfu9eH0\")"
   ]
  },
  {
   "cell_type": "code",
   "execution_count": 63,
   "metadata": {},
   "outputs": [
    {
     "data": {
      "text/html": [
       "<iframe id=\"igraph\" scrolling=\"no\" style=\"border:none;\" seamless=\"seamless\" src=\"https://plot.ly/~mhichar/6.embed\" height=\"525px\" width=\"100%\"></iframe>"
      ],
      "text/plain": [
       "<plotly.tools.PlotlyDisplay object>"
      ]
     },
     "execution_count": 63,
     "metadata": {},
     "output_type": "execute_result"
    }
   ],
   "source": [
    "import plotly.graph_objs as go\n",
    "\n",
    "trace0 = go.Bar(\n",
    "    x=interest_cats,\n",
    "    y=values\n",
    ")\n",
    "\n",
    "data = [trace0]\n",
    "\n",
    "\n",
    "py.iplot(data, filename = 'Number_of_ads', auto_open=False)"
   ]
  },
  {
   "cell_type": "code",
   "execution_count": 27,
   "metadata": {},
   "outputs": [
    {
     "data": {
      "text/plain": [
       "'<iframe id=\"igraph\" scrolling=\"no\" style=\"border:none;\" seamless=\"seamless\" src=\"https://plot.ly/~mhichar/0.embed\" height=\"525\" width=\"100%\"></iframe>'"
      ]
     },
     "execution_count": 27,
     "metadata": {},
     "output_type": "execute_result"
    }
   ],
   "source": [
    "tls.get_embed('https://plot.ly/~mhichar/0')"
   ]
  },
  {
   "cell_type": "code",
   "execution_count": null,
   "metadata": {},
   "outputs": [],
   "source": []
  },
  {
   "cell_type": "code",
   "execution_count": null,
   "metadata": {},
   "outputs": [],
   "source": []
  },
  {
   "cell_type": "markdown",
   "metadata": {},
   "source": [
    "# Interest Clicks"
   ]
  },
  {
   "cell_type": "code",
   "execution_count": 28,
   "metadata": {
    "scrolled": true
   },
   "outputs": [
    {
     "data": {
      "text/plain": [
       "interests_categories_regex\n",
       "Latinx                                                           726984\n",
       "African American                                                 603286\n",
       "Unknown_African American                                         589088\n",
       "African American_Progressive                                     588776\n",
       "Progressive                                                      156765\n",
       "Unknown_Patriotism                                               134769\n",
       "                                                                 121912\n",
       "Memes_Memes and Products                                          85559\n",
       "American South                                                    82162\n",
       "Christianity                                                      76472\n",
       "LGBTQ                                                             74083\n",
       "Police                                                            73145\n",
       "Gun Rights                                                        57605\n",
       "Unknown_African American_Progressive                              56145\n",
       "Conservative                                                      37813\n",
       "Patriotism                                                        25237\n",
       "Unknown_Anti-Immigrant                                            23989\n",
       "Islam                                                             22075\n",
       "Unknown_Gun Rights_Self-Defense                                   21197\n",
       "Unknown_African American_Products_Progressive                     19771\n",
       "Unknown                                                           17153\n",
       "Conservative_Above Age 30_Army                                    15167\n",
       "Geographic_Progressive                                            14890\n",
       "Unknown_Progressive                                               12089\n",
       "Native American                                                    9547\n",
       "Unknown_Police                                                     9508\n",
       "Anti-Immigrant                                                     8468\n",
       "Army                                                               6251\n",
       "American South_Conservative                                        5870\n",
       "Unknown_Memes_Geographic_African American_Memes and Products       4434\n",
       "                                                                  ...  \n",
       "Unknown_African American_Products                                    43\n",
       "Above Age 30_Police                                                  42\n",
       "Products_Below Age 30                                                40\n",
       "Products                                                             38\n",
       "Police_Progressive                                                   33\n",
       "American South_Gun Rights_Army                                       30\n",
       "Unknown_Christianity                                                 28\n",
       "Conservative_Anti-Immigrant                                          23\n",
       "Memes_Memes and Products_Conservative                                20\n",
       "Unknown_Progressive_Islam                                            18\n",
       "African American_Latinx                                              18\n",
       "Christianity_Conservative                                            14\n",
       "Patriotism_Army_Conservative_Police_American South_Gun Rights        10\n",
       "Unknown_African American_Police                                       9\n",
       "Unknown_Geographic_Gun Rights_Texas                                   7\n",
       "Unknown_American South_Geographic_Texas                               5\n",
       "African American_Police                                               4\n",
       "American South_Gun Rights                                             3\n",
       "Christianity_Below Age 30                                             1\n",
       "Unknown_African American_Latinx                                       1\n",
       "Unknown_Prison                                                        0\n",
       "Unknown_African American_Memes_Memes and Products_Progressive         0\n",
       "Unknown_Products                                                      0\n",
       "African American_Progressive_Conservative                             0\n",
       "Unknown_Police_Prison                                                 0\n",
       "Unknown_African American_Police_Prison                                0\n",
       "Unknown_Islam_Christianity                                            0\n",
       "Gun Rights_Anti-Immigrant                                             0\n",
       "Gun Rights_Texas                                                      0\n",
       "Unknown_Police_Army                                                   0\n",
       "Name: ad_clicks, Length: 117, dtype: int64"
      ]
     },
     "execution_count": 28,
     "metadata": {},
     "output_type": "execute_result"
    }
   ],
   "source": [
    "interest_clicks=ads.groupby(by='interests_categories_regex').sum().sort_values\\\n",
    "(by='ad_clicks', ascending=False)['ad_clicks']\n",
    "interest_clicks"
   ]
  },
  {
   "cell_type": "code",
   "execution_count": 29,
   "metadata": {
    "scrolled": true
   },
   "outputs": [],
   "source": [
    "af_am_clicks = ads[ads['African American']==1].sum()[0]\n",
    "latinx_clicks = ads[ads['Latinx']==1].sum()[0]\n",
    "progressive_clicks = ads[ads['Progressive']==1].sum()[0]\n",
    "pat_clicks = ads[ads['Patriotism']==1].sum()[0]\n",
    "memes_clicks = ads[ads['Memes']==1].sum()[0]\n",
    "american_south_clicks = ads[ads['American South']==1].sum()[0]\n",
    "chris_clicks = ads[ads['Christianity']==1].sum()[0]"
   ]
  },
  {
   "cell_type": "code",
   "execution_count": 37,
   "metadata": {},
   "outputs": [],
   "source": [
    "clicks_values=[af_am_clicks,progressive_clicks,latinx_clicks,pat_clicks,\\\n",
    "               memes_clicks,american_south_clicks,chris_clicks]"
   ]
  },
  {
   "cell_type": "code",
   "execution_count": 38,
   "metadata": {},
   "outputs": [
    {
     "data": {
      "text/plain": [
       "[1870272, 856381, 727003, 162903, 99515, 88887, 78134]"
      ]
     },
     "execution_count": 38,
     "metadata": {},
     "output_type": "execute_result"
    }
   ],
   "source": [
    "clicks_values"
   ]
  },
  {
   "cell_type": "code",
   "execution_count": 39,
   "metadata": {
    "scrolled": true
   },
   "outputs": [
    {
     "ename": "FileNotFoundError",
     "evalue": "[Errno 2] No such file or directory: 'img/.png'",
     "output_type": "error",
     "traceback": [
      "\u001b[0;31m---------------------------------------------------------------------------\u001b[0m",
      "\u001b[0;31mFileNotFoundError\u001b[0m                         Traceback (most recent call last)",
      "\u001b[0;32m<ipython-input-39-a8f128c16dc8>\u001b[0m in \u001b[0;36m<module>\u001b[0;34m()\u001b[0m\n\u001b[1;32m      4\u001b[0m \u001b[0mplt\u001b[0m\u001b[0;34m.\u001b[0m\u001b[0mxlabel\u001b[0m\u001b[0;34m(\u001b[0m\u001b[0;34m'Interest Group'\u001b[0m\u001b[0;34m)\u001b[0m\u001b[0;34m\u001b[0m\u001b[0m\n\u001b[1;32m      5\u001b[0m \u001b[0mplt\u001b[0m\u001b[0;34m.\u001b[0m\u001b[0mtitle\u001b[0m\u001b[0;34m(\u001b[0m\u001b[0;34m'Number of Clicks in Interest Group Ads'\u001b[0m\u001b[0;34m)\u001b[0m\u001b[0;34m\u001b[0m\u001b[0m\n\u001b[0;32m----> 6\u001b[0;31m \u001b[0mplt\u001b[0m\u001b[0;34m.\u001b[0m\u001b[0msavefig\u001b[0m\u001b[0;34m(\u001b[0m\u001b[0;34m'img/'\u001b[0m\u001b[0;34m)\u001b[0m\u001b[0;34m\u001b[0m\u001b[0m\n\u001b[0m",
      "\u001b[0;32m~/anaconda3/lib/python3.6/site-packages/matplotlib/pyplot.py\u001b[0m in \u001b[0;36msavefig\u001b[0;34m(*args, **kwargs)\u001b[0m\n\u001b[1;32m    699\u001b[0m \u001b[0;32mdef\u001b[0m \u001b[0msavefig\u001b[0m\u001b[0;34m(\u001b[0m\u001b[0;34m*\u001b[0m\u001b[0margs\u001b[0m\u001b[0;34m,\u001b[0m \u001b[0;34m**\u001b[0m\u001b[0mkwargs\u001b[0m\u001b[0;34m)\u001b[0m\u001b[0;34m:\u001b[0m\u001b[0;34m\u001b[0m\u001b[0m\n\u001b[1;32m    700\u001b[0m     \u001b[0mfig\u001b[0m \u001b[0;34m=\u001b[0m \u001b[0mgcf\u001b[0m\u001b[0;34m(\u001b[0m\u001b[0;34m)\u001b[0m\u001b[0;34m\u001b[0m\u001b[0m\n\u001b[0;32m--> 701\u001b[0;31m     \u001b[0mres\u001b[0m \u001b[0;34m=\u001b[0m \u001b[0mfig\u001b[0m\u001b[0;34m.\u001b[0m\u001b[0msavefig\u001b[0m\u001b[0;34m(\u001b[0m\u001b[0;34m*\u001b[0m\u001b[0margs\u001b[0m\u001b[0;34m,\u001b[0m \u001b[0;34m**\u001b[0m\u001b[0mkwargs\u001b[0m\u001b[0;34m)\u001b[0m\u001b[0;34m\u001b[0m\u001b[0m\n\u001b[0m\u001b[1;32m    702\u001b[0m     \u001b[0mfig\u001b[0m\u001b[0;34m.\u001b[0m\u001b[0mcanvas\u001b[0m\u001b[0;34m.\u001b[0m\u001b[0mdraw_idle\u001b[0m\u001b[0;34m(\u001b[0m\u001b[0;34m)\u001b[0m   \u001b[0;31m# need this if 'transparent=True' to reset colors\u001b[0m\u001b[0;34m\u001b[0m\u001b[0m\n\u001b[1;32m    703\u001b[0m     \u001b[0;32mreturn\u001b[0m \u001b[0mres\u001b[0m\u001b[0;34m\u001b[0m\u001b[0m\n",
      "\u001b[0;32m~/anaconda3/lib/python3.6/site-packages/matplotlib/figure.py\u001b[0m in \u001b[0;36msavefig\u001b[0;34m(self, fname, **kwargs)\u001b[0m\n\u001b[1;32m   1832\u001b[0m             \u001b[0mself\u001b[0m\u001b[0;34m.\u001b[0m\u001b[0mset_frameon\u001b[0m\u001b[0;34m(\u001b[0m\u001b[0mframeon\u001b[0m\u001b[0;34m)\u001b[0m\u001b[0;34m\u001b[0m\u001b[0m\n\u001b[1;32m   1833\u001b[0m \u001b[0;34m\u001b[0m\u001b[0m\n\u001b[0;32m-> 1834\u001b[0;31m         \u001b[0mself\u001b[0m\u001b[0;34m.\u001b[0m\u001b[0mcanvas\u001b[0m\u001b[0;34m.\u001b[0m\u001b[0mprint_figure\u001b[0m\u001b[0;34m(\u001b[0m\u001b[0mfname\u001b[0m\u001b[0;34m,\u001b[0m \u001b[0;34m**\u001b[0m\u001b[0mkwargs\u001b[0m\u001b[0;34m)\u001b[0m\u001b[0;34m\u001b[0m\u001b[0m\n\u001b[0m\u001b[1;32m   1835\u001b[0m \u001b[0;34m\u001b[0m\u001b[0m\n\u001b[1;32m   1836\u001b[0m         \u001b[0;32mif\u001b[0m \u001b[0mframeon\u001b[0m\u001b[0;34m:\u001b[0m\u001b[0;34m\u001b[0m\u001b[0m\n",
      "\u001b[0;32m~/anaconda3/lib/python3.6/site-packages/matplotlib/backend_bases.py\u001b[0m in \u001b[0;36mprint_figure\u001b[0;34m(self, filename, dpi, facecolor, edgecolor, orientation, format, **kwargs)\u001b[0m\n\u001b[1;32m   2265\u001b[0m                 \u001b[0morientation\u001b[0m\u001b[0;34m=\u001b[0m\u001b[0morientation\u001b[0m\u001b[0;34m,\u001b[0m\u001b[0;34m\u001b[0m\u001b[0m\n\u001b[1;32m   2266\u001b[0m                 \u001b[0mbbox_inches_restore\u001b[0m\u001b[0;34m=\u001b[0m\u001b[0m_bbox_inches_restore\u001b[0m\u001b[0;34m,\u001b[0m\u001b[0;34m\u001b[0m\u001b[0m\n\u001b[0;32m-> 2267\u001b[0;31m                 **kwargs)\n\u001b[0m\u001b[1;32m   2268\u001b[0m         \u001b[0;32mfinally\u001b[0m\u001b[0;34m:\u001b[0m\u001b[0;34m\u001b[0m\u001b[0m\n\u001b[1;32m   2269\u001b[0m             \u001b[0;32mif\u001b[0m \u001b[0mbbox_inches\u001b[0m \u001b[0;32mand\u001b[0m \u001b[0mrestore_bbox\u001b[0m\u001b[0;34m:\u001b[0m\u001b[0;34m\u001b[0m\u001b[0m\n",
      "\u001b[0;32m~/anaconda3/lib/python3.6/site-packages/matplotlib/backends/backend_agg.py\u001b[0m in \u001b[0;36mprint_png\u001b[0;34m(self, filename_or_obj, *args, **kwargs)\u001b[0m\n\u001b[1;32m    510\u001b[0m         \u001b[0mrenderer\u001b[0m\u001b[0;34m.\u001b[0m\u001b[0mdpi\u001b[0m \u001b[0;34m=\u001b[0m \u001b[0mself\u001b[0m\u001b[0;34m.\u001b[0m\u001b[0mfigure\u001b[0m\u001b[0;34m.\u001b[0m\u001b[0mdpi\u001b[0m\u001b[0;34m\u001b[0m\u001b[0m\n\u001b[1;32m    511\u001b[0m         \u001b[0;32mif\u001b[0m \u001b[0misinstance\u001b[0m\u001b[0;34m(\u001b[0m\u001b[0mfilename_or_obj\u001b[0m\u001b[0;34m,\u001b[0m \u001b[0msix\u001b[0m\u001b[0;34m.\u001b[0m\u001b[0mstring_types\u001b[0m\u001b[0;34m)\u001b[0m\u001b[0;34m:\u001b[0m\u001b[0;34m\u001b[0m\u001b[0m\n\u001b[0;32m--> 512\u001b[0;31m             \u001b[0mfilename_or_obj\u001b[0m \u001b[0;34m=\u001b[0m \u001b[0mopen\u001b[0m\u001b[0;34m(\u001b[0m\u001b[0mfilename_or_obj\u001b[0m\u001b[0;34m,\u001b[0m \u001b[0;34m'wb'\u001b[0m\u001b[0;34m)\u001b[0m\u001b[0;34m\u001b[0m\u001b[0m\n\u001b[0m\u001b[1;32m    513\u001b[0m             \u001b[0mclose\u001b[0m \u001b[0;34m=\u001b[0m \u001b[0;32mTrue\u001b[0m\u001b[0;34m\u001b[0m\u001b[0m\n\u001b[1;32m    514\u001b[0m         \u001b[0;32melse\u001b[0m\u001b[0;34m:\u001b[0m\u001b[0;34m\u001b[0m\u001b[0m\n",
      "\u001b[0;31mFileNotFoundError\u001b[0m: [Errno 2] No such file or directory: 'img/.png'"
     ]
    },
    {
     "data": {
      "image/png": "[encoded data removed]",
      "text/plain": [
       "<matplotlib.figure.Figure at 0x117974160>"
      ]
     },
     "metadata": {},
     "output_type": "display_data"
    }
   ],
   "source": [
    "plt.figure(figsize=(16,9))\n",
    "plt.bar(np.arange(len(clicks_values)),clicks_values, align='center')\n",
    "plt.xticks(np.arange(len(values)),['African American','Progressive','LatinX','Patriotism','Memes',\\\n",
    "                                  'American South','Christianity'])\n",
    "plt.xlabel('Interest Group')\n",
    "plt.title('Number of Clicks in Interest Group Ads')\n",
    "plt.savefig('img/')"
   ]
  },
  {
   "cell_type": "code",
   "execution_count": 3,
   "metadata": {},
   "outputs": [],
   "source": [
    "Interest_list = ['African American','LatinX','Progressive','Patriotism','Memes',\\\n",
    "                                  'American South','Christianity']"
   ]
  },
  {
   "cell_type": "markdown",
   "metadata": {},
   "source": [
    "## Interest Clicks Plotly"
   ]
  },
  {
   "cell_type": "code",
   "execution_count": 64,
   "metadata": {},
   "outputs": [
    {
     "data": {
      "text/html": [
       "<iframe id=\"igraph\" scrolling=\"no\" style=\"border:none;\" seamless=\"seamless\" src=\"https://plot.ly/~mhichar/8.embed\" height=\"525px\" width=\"100%\"></iframe>"
      ],
      "text/plain": [
       "<plotly.tools.PlotlyDisplay object>"
      ]
     },
     "execution_count": 64,
     "metadata": {},
     "output_type": "execute_result"
    }
   ],
   "source": [
    "interest_trace_0 = go.Bar(\n",
    "    x = Interest_list,\n",
    "    y = clicks_values)\n",
    "\n",
    "data1 = [interest_trace_0]\n",
    "\n",
    "py.iplot(data1, filename = 'Interest_clicks', auto_open=False)"
   ]
  },
  {
   "cell_type": "code",
   "execution_count": 42,
   "metadata": {},
   "outputs": [
    {
     "data": {
      "text/plain": [
       "'<iframe id=\"igraph\" scrolling=\"no\" style=\"border:none;\" seamless=\"seamless\" src=\"https://plot.ly/~mhichar/1.embed\" height=\"525\" width=\"100%\"></iframe>'"
      ]
     },
     "execution_count": 42,
     "metadata": {},
     "output_type": "execute_result"
    }
   ],
   "source": [
    "tls.get_embed('https://plot.ly/~mhichar/1')"
   ]
  },
  {
   "cell_type": "code",
   "execution_count": null,
   "metadata": {},
   "outputs": [],
   "source": []
  },
  {
   "cell_type": "code",
   "execution_count": null,
   "metadata": {},
   "outputs": [],
   "source": []
  },
  {
   "cell_type": "code",
   "execution_count": null,
   "metadata": {},
   "outputs": [],
   "source": []
  },
  {
   "cell_type": "code",
   "execution_count": null,
   "metadata": {},
   "outputs": [],
   "source": []
  },
  {
   "cell_type": "code",
   "execution_count": null,
   "metadata": {},
   "outputs": [],
   "source": []
  },
  {
   "cell_type": "markdown",
   "metadata": {},
   "source": [
    "# Interest Spending "
   ]
  },
  {
   "cell_type": "code",
   "execution_count": 4,
   "metadata": {
    "scrolled": true
   },
   "outputs": [
    {
     "ename": "NameError",
     "evalue": "name 'ads' is not defined",
     "output_type": "error",
     "traceback": [
      "\u001b[0;31m---------------------------------------------------------------------------\u001b[0m",
      "\u001b[0;31mNameError\u001b[0m                                 Traceback (most recent call last)",
      "\u001b[0;32m<ipython-input-4-de23f91548a5>\u001b[0m in \u001b[0;36m<module>\u001b[0;34m()\u001b[0m\n\u001b[0;32m----> 1\u001b[0;31m \u001b[0minterest_spend\u001b[0m\u001b[0;34m=\u001b[0m\u001b[0mads\u001b[0m\u001b[0;34m.\u001b[0m\u001b[0mgroupby\u001b[0m\u001b[0;34m(\u001b[0m\u001b[0mby\u001b[0m\u001b[0;34m=\u001b[0m\u001b[0;34m'interests_categories_regex'\u001b[0m\u001b[0;34m)\u001b[0m\u001b[0;34m.\u001b[0m\u001b[0msum\u001b[0m\u001b[0;34m(\u001b[0m\u001b[0;34m)\u001b[0m\u001b[0;34m.\u001b[0m\u001b[0msort_values\u001b[0m\u001b[0;34m(\u001b[0m\u001b[0mby\u001b[0m\u001b[0;34m=\u001b[0m\u001b[0;34m'ad_spend_usd'\u001b[0m\u001b[0;34m,\u001b[0m \u001b[0mascending\u001b[0m\u001b[0;34m=\u001b[0m\u001b[0;32mFalse\u001b[0m\u001b[0;34m)\u001b[0m\u001b[0;34m[\u001b[0m\u001b[0;34m'ad_spend_usd'\u001b[0m\u001b[0;34m]\u001b[0m\u001b[0;34m\u001b[0m\u001b[0m\n\u001b[0m\u001b[1;32m      2\u001b[0m \u001b[0minterest_spend\u001b[0m\u001b[0;34m\u001b[0m\u001b[0m\n",
      "\u001b[0;31mNameError\u001b[0m: name 'ads' is not defined"
     ]
    }
   ],
   "source": [
    "interest_spend=ads.groupby(by='interests_categories_regex').sum().sort_values\\\n",
    "(by='ad_spend_usd', ascending=False)['ad_spend_usd']\n",
    "interest_spend"
   ]
  },
  {
   "cell_type": "code",
   "execution_count": 47,
   "metadata": {},
   "outputs": [],
   "source": [
    "af_am_spend = ads[ads['African American']==1].sum()['ad_spend_usd']\n",
    "pat_spend = ads[ads['Patriotism']==1].sum()['ad_spend_usd']\n",
    "progressvie_spend = ads[ads['Progressive']==1].sum()['ad_spend_usd']\n",
    "lgbtq_spend = ads[ads['LGBTQ']==1].sum()['ad_spend_usd']\n",
    "isla_spend = ads[ads['Islam']==1].sum()['ad_spend_usd']\n",
    "chris_spend = ads[ads['Christianity']==1].sum()['ad_spend_usd']\n",
    "am_south = ads[ads['American South']==1].sum()['ad_spend_usd']\n",
    "gun_spend = ads[ads['Gun Rights']==1].sum()['ad_spend_usd']\n",
    "latinx_spend = ads[ads['Latinx']==1].sum()['ad_spend_usd']\n",
    "meme_spend = ads[ads['Memes']==1].sum()['ad_spend_usd']"
   ]
  },
  {
   "cell_type": "code",
   "execution_count": 57,
   "metadata": {},
   "outputs": [],
   "source": [
    "interest_spend = [af_am_spend,progressvie_spend,pat_spend,lgbtq_spend,isla_spend,\\\n",
    "                  am_south,gun_spend,chris_spend,latinx_spend,meme_spend]"
   ]
  },
  {
   "cell_type": "code",
   "execution_count": 58,
   "metadata": {},
   "outputs": [
    {
     "data": {
      "image/png": "[encoded data removed]",
      "text/plain": [
       "<matplotlib.figure.Figure at 0x1145fbb00>"
      ]
     },
     "metadata": {},
     "output_type": "display_data"
    }
   ],
   "source": [
    "plt.figure(figsize=(16,9))\n",
    "plt.bar(np.arange(len(interest_spend)),interest_spend, align='center')\n",
    "plt.xticks(np.arange(len(interest_spend)),interest_spend_list)\n",
    "plt.xlabel('Interest Group')\n",
    "plt.ylabel('Amount Spent Total(USD)')\n",
    "plt.title('Amount Spent on Interest Group Ads');"
   ]
  },
  {
   "cell_type": "markdown",
   "metadata": {},
   "source": [
    "## Interest Spending Plotly"
   ]
  },
  {
   "cell_type": "code",
   "execution_count": 59,
   "metadata": {},
   "outputs": [],
   "source": [
    "interest_spend_list = ['African American','Progressive','Patriotism','LGBTQ',\\\n",
    "                                           'Islam','American South','Gun Rights','Christianity','LatinX','Memes']"
   ]
  },
  {
   "cell_type": "code",
   "execution_count": 1,
   "metadata": {},
   "outputs": [
    {
     "ename": "NameError",
     "evalue": "name 'go' is not defined",
     "output_type": "error",
     "traceback": [
      "\u001b[0;31m---------------------------------------------------------------------------\u001b[0m",
      "\u001b[0;31mNameError\u001b[0m                                 Traceback (most recent call last)",
      "\u001b[0;32m<ipython-input-1-ef87c042353a>\u001b[0m in \u001b[0;36m<module>\u001b[0;34m()\u001b[0m\n\u001b[0;32m----> 1\u001b[0;31m interest_spend_trace = go.Bar(\n\u001b[0m\u001b[1;32m      2\u001b[0m     \u001b[0mx\u001b[0m \u001b[0;34m=\u001b[0m \u001b[0minterest_spend_list\u001b[0m\u001b[0;34m,\u001b[0m\u001b[0;34m\u001b[0m\u001b[0m\n\u001b[1;32m      3\u001b[0m     y = interest_spend)\n\u001b[1;32m      4\u001b[0m \u001b[0minterest_spend_data\u001b[0m \u001b[0;34m=\u001b[0m \u001b[0;34m[\u001b[0m\u001b[0minterest_spend_trace\u001b[0m\u001b[0;34m]\u001b[0m\u001b[0;34m\u001b[0m\u001b[0m\n\u001b[1;32m      5\u001b[0m \u001b[0;34m\u001b[0m\u001b[0m\n",
      "\u001b[0;31mNameError\u001b[0m: name 'go' is not defined"
     ]
    }
   ],
   "source": [
    "interest_spend_trace = go.Bar(\n",
    "    x = interest_spend_list,\n",
    "    y = interest_spend)\n",
    "interest_spend_data = [interest_spend_trace]\n",
    "\n",
    "py.plot(interest_spend_data, filename = 'Interest_spending', auto_open=False)"
   ]
  },
  {
   "cell_type": "code",
   "execution_count": 61,
   "metadata": {},
   "outputs": [
    {
     "data": {
      "text/plain": [
       "'<iframe id=\"igraph\" scrolling=\"no\" style=\"border:none;\" seamless=\"seamless\" src=\"https://plot.ly/~mhichar/4.embed\" height=\"525\" width=\"100%\"></iframe>'"
      ]
     },
     "execution_count": 61,
     "metadata": {},
     "output_type": "execute_result"
    }
   ],
   "source": [
    "tls.get_embed('https://plot.ly/~mhichar/4')"
   ]
  },
  {
   "cell_type": "code",
   "execution_count": null,
   "metadata": {},
   "outputs": [],
   "source": []
  },
  {
   "cell_type": "code",
   "execution_count": null,
   "metadata": {},
   "outputs": [],
   "source": []
  },
  {
   "cell_type": "code",
   "execution_count": null,
   "metadata": {},
   "outputs": [],
   "source": []
  },
  {
   "cell_type": "code",
   "execution_count": null,
   "metadata": {},
   "outputs": [],
   "source": []
  },
  {
   "cell_type": "code",
   "execution_count": null,
   "metadata": {},
   "outputs": [],
   "source": []
  }
 ],
 "metadata": {
  "kernelspec": {
   "display_name": "Python 3",
   "language": "python",
   "name": "python3"
  },
  "language_info": {
   "codemirror_mode": {
    "name": "ipython",
    "version": 3
   },
   "file_extension": ".py",
   "mimetype": "text/x-python",
   "name": "python",
   "nbconvert_exporter": "python",
   "pygments_lexer": "ipython3",
   "version": "3.6.4"
  }
 },
 "nbformat": 4,
 "nbformat_minor": 2
}
